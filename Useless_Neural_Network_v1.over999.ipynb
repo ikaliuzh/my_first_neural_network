{
 "cells": [
  {
   "cell_type": "code",
   "execution_count": 23,
   "metadata": {},
   "outputs": [],
   "source": [
    "# The very first version of Neural Network \n",
    "#-------------------------------------------------------------------------\n",
    "# This Neural Networks works with the from Wisconsin cancer dataset\n",
    "#07/26/2019 - first workable version!"
   ]
  },
  {
   "cell_type": "code",
   "execution_count": 24,
   "metadata": {},
   "outputs": [],
   "source": [
    "import matplotlib.pyplot as plt\n",
    "import numpy as np\n",
    "import pandas as pd\n",
    "import time"
   ]
  },
  {
   "cell_type": "code",
   "execution_count": 25,
   "metadata": {},
   "outputs": [],
   "source": [
    "#Activation function\n",
    "def sigmoid(x):\n",
    "    return 1 / (1 + np.exp(-x))"
   ]
  },
  {
   "cell_type": "code",
   "execution_count": 26,
   "metadata": {},
   "outputs": [],
   "source": [
    "#Derivativ of the Activation function\n",
    "def sigmoid_derivative(x):\n",
    "    return x * (1 - x)"
   ]
  },
  {
   "cell_type": "code",
   "execution_count": 27,
   "metadata": {},
   "outputs": [],
   "source": [
    "def cout(x):\n",
    "    if np.ndim(x) == 2:\n",
    "        for i in range(x.shape[0]):\n",
    "            for j in range(x.shape[1]):\n",
    "                if x[i][j] >= 0.5:\n",
    "                    x[i][j] = 1\n",
    "                else:\n",
    "                    x[i][j] = 0\n",
    "    elif np.ndim(x) == 1:\n",
    "        for i in range(x.shape[0]):\n",
    "            if x[i] >= 0.5:\n",
    "                x[i] = 1\n",
    "            else:\n",
    "                x[i] = 0\n",
    "    return x"
   ]
  },
  {
   "cell_type": "code",
   "execution_count": 28,
   "metadata": {
    "scrolled": true
   },
   "outputs": [],
   "source": [
    "#Neural Network\n",
    "class NeuralNetwork:\n",
    "    def __init__(self, Input, Output, Input_test, Output_test, NNstructure = [20, 20, 20]):\n",
    "        # Variables\n",
    "        self.Input = np.hstack((np.ones((Input.shape[0],1)), Input))\n",
    "        self.Output = Output\n",
    "        \n",
    "        self.Input_test = np.hstack((np.ones((Input_test.shape[0],1)), Input_test))\n",
    "        self.Output_test = Output_test\n",
    "        #Number of features\n",
    "        self.n = self.Input.shape[1]\n",
    "        #Number of Examples\n",
    "        self.m = self.Input.shape[0]\n",
    "        #Neural Network strucutre (number of nodes)\n",
    "        self.layer_1_nodes = NNstructure[0]\n",
    "        self.layer_2_nodes = NNstructure[1]\n",
    "        self.layer_3_nodes = NNstructure[2]\n",
    "\n",
    "        classes =1 \n",
    "        \n",
    "        self.weights_1_init = 2 * np.random.random((self.n, self.layer_1_nodes)) - 1\n",
    "        self.weights_2_init = 2 * np.random.random((self.layer_1_nodes, self.layer_2_nodes)) - 1\n",
    "        self.weights_3_init = 2 * np.random.random((self.layer_2_nodes, self.layer_3_nodes)) - 1\n",
    "        self.weights_out_init = 2 *np.random.random((self.layer_3_nodes, classes)) - 1\n",
    "    \n",
    "    #Forward propagation \n",
    "    def Forward_Propagation(self, x):\n",
    "        if np.ndim(x) == 2:\n",
    "            if x.shape[1] == self.n -1:\n",
    "                x = np.hstack((np.ones((x.shape[0],1)), x))\n",
    "        elif np.ndim(x) == 1:\n",
    "            if x.shape[0] == self.n -1:\n",
    "                x = np.hstack((np.ones((1,)), x))\n",
    "                \n",
    "        self.layer_1 = sigmoid(np.dot(x, self.weights_1))\n",
    "        self.layer_2 = sigmoid(np.dot(self.layer_1, self.weights_2))\n",
    "        self.layer_3 = sigmoid(np.dot(self.layer_2, self.weights_3))\n",
    "        self.prediction = sigmoid(np.dot(self.layer_3, self.weights_out))\n",
    "        return self.prediction\n",
    "    \n",
    "    #trainin the Neural Network\n",
    "    def train(self, num_iter = 500):\n",
    "        initial_time = time.time()\n",
    "        self.weights_1 = self.weights_1_init\n",
    "        self.weights_2 = self.weights_2_init\n",
    "        self.weights_3 = self.weights_3_init\n",
    "        self.weights_out = self.weights_out_init\n",
    "        alpha = 0.0003\n",
    "        lam = 0.25\n",
    "        beta = 0.9\n",
    "        eps = 10 ** (-8)\n",
    "        self.CostHistory = []\n",
    "        self.CostHistory_test = []\n",
    "        self.AccTrain = []\n",
    "        self.AccTest = []\n",
    "        VdW_out = np.zeros(self.weights_out.shape)\n",
    "        VdW_3 = np.zeros(self.weights_3.shape)\n",
    "        VdW_2 = np.zeros(self.weights_2.shape)\n",
    "        VdW_1 = np.zeros(self.weights_1.shape)\n",
    "        for x in range(num_iter):\n",
    "            prediction_test = self.Forward_Propagation(self.Input_test)\n",
    "            prediction = self.Forward_Propagation(self.Input)\n",
    "            \n",
    "            #Cost Function\n",
    "            outputError = prediction - self.Output\n",
    "            CostFunction = (len(self.Output))**-1 * sum(-self.Output * np.log(prediction) - (1-self.Output) * np.log(1-prediction))              \n",
    "            self.CostHistory.append(*CostFunction)\n",
    "            \n",
    "            outputError_test = prediction_test - self.Output_test\n",
    "            CostFunction_test =(len(self.Output_test))**-1 * sum(- self.Output_test * np.log(prediction_test) - (1-self.Output_test) * np.log(1-prediction_test))\n",
    "            self.CostHistory_test.append(*CostFunction_test)\n",
    "            #Accuracy\n",
    "            self.AccTrain.append(1.0- (sum(abs(cout(prediction) - self.Output)) / self.Output.shape[0]))\n",
    "            self.AccTest.append(1.0 - (sum(abs(cout(prediction_test) - self.Output_test)) / self.Output_test.shape[0]))\n",
    "\n",
    "            string = '<'+'█'*round((x)/num_iter*40)+'_'*(40-round((x)/num_iter*40))+'>'\n",
    "            print('\\r{}% {} Cost function = {}'.format(round((x+1)/num_iter*100,1),string,*CostFunction),end='')\n",
    "            \n",
    "            #Back Propagation with RMSprop\n",
    "            delta = outputError   \n",
    "            dW_out = np.dot(self.layer_3.T, delta)\n",
    "            VdW_out = VdW_out * beta + (1-beta)* dW_out**2\n",
    "            self.weights_out += - alpha*dW_out / (VdW_out + eps)**0.5 - lam/self.m * self.weights_out\n",
    "                                   \n",
    "            delta = np.dot(delta, self.weights_out.T) * sigmoid_derivative(self.layer_3)\n",
    "            dW_3 = np.dot(self.layer_2.T, delta)\n",
    "            VdW_3 = VdW_3 * beta + (1-beta)*dW_3**2\n",
    "            self.weights_3 += - alpha*dW_3 / (VdW_3 + eps)**0.5 - self.weights_3* lam/self.m\n",
    "            \n",
    "            delta = np.dot(delta, self.weights_3.T) * sigmoid_derivative(self.layer_2)\n",
    "            dW_2 = np.dot(self.layer_1.T, delta)\n",
    "            VdW_2 = VdW_2 * beta + (1-beta)*dW_2**2\n",
    "            self.weights_2 += - alpha*dW_2 / (VdW_2 + eps)**0.5 - self.weights_2*lam/self.m\n",
    "            \n",
    "            delta = np.dot(delta, self.weights_2.T) * sigmoid_derivative(self.layer_1)\n",
    "            dW_1 = np.dot(self.Input.T, delta)\n",
    "            VdW_1 = VdW_1 * beta + (1-beta)*dW_1**2\n",
    "            self.weights_1 += - alpha*dW_1 / (VdW_1 + eps)**0.5 - self.weights_1*lam/self.m\n",
    "            \n",
    "        print('\\nFinal cost function: {}'.format(*CostFunction))\n",
    "        final_time = time.time()\n",
    "        print('\\nTraining successfully complete!\\nIt took {} seconds\\n'.format(round(final_time-initial_time, 1)))\n",
    "        "
   ]
  },
  {
   "cell_type": "code",
   "execution_count": 29,
   "metadata": {},
   "outputs": [],
   "source": [
    "def LoadData(filename, inp_train):\n",
    "    file= pd.read_csv(filename, delimiter = ',')\n",
    "    dataset = file.values\n",
    "    np.random.shuffle(dataset)\n",
    "    Input = dataset[:,1:10]\n",
    "    Output_initial = dataset[:,10]\n",
    "    OutputX = []\n",
    "    for i in Output_initial:\n",
    "        if i == 2:\n",
    "            g = 0\n",
    "        else:\n",
    "            g = 1\n",
    "        OutputX.append(g)\n",
    "    OutputX = np.array(OutputX).reshape(Output_initial.shape[0],1)\n",
    "    Output = OutputX[:inp_train, :]\n",
    "    Output_test = OutputX[inp_train:, :]\n",
    "    data_train = Input[:inp_train, :].astype('float32') / 10\n",
    "    data_test = Input[inp_train:, :].astype('float32') / 10\n",
    "    \n",
    "    return Output, Output_test, data_train, data_test"
   ]
  },
  {
   "cell_type": "code",
   "execution_count": 30,
   "metadata": {
    "scrolled": false
   },
   "outputs": [
    {
     "name": "stdout",
     "output_type": "stream",
     "text": [
      "Enter training set size in percent: 80\n",
      "Number of iterations: 2000\n",
      "Trainin Neural Network for 2000 iterations \n",
      "\n",
      "100.0% <████████████████████████████████████████> Cost function = 0.09415916213627921\n",
      "Final cost function: 0.09415916213627921\n",
      "\n",
      "Training successfully complete!\n",
      "It took 12.3 seconds\n",
      "\n",
      "Accuracy on training data: [0.96601073]%\n",
      "Accuracy on test data: [0.97841727]%\n"
     ]
    },
    {
     "data": {
      "image/png": "[encoded data removed]",
      "text/plain": [
       "<Figure size 432x288 with 1 Axes>"
      ]
     },
     "metadata": {
      "needs_background": "light"
     },
     "output_type": "display_data"
    }
   ],
   "source": [
    "if __name__ == '__main__':\n",
    "    filename = 'breast-cancer-wisconsin.txt'\n",
    "    inp_train = round((int(input('Enter training set size in percent: ')) / 100) * 699)\n",
    "    Output, Output_test, data_train, data_test = LoadData(filename, inp_train)\n",
    "    \n",
    "    neural_network = NeuralNetwork(data_train, Output, data_test, Output_test)\n",
    "    \n",
    "    num_iter = int(input('Number of iterations: '))\n",
    "    print('Trainin Neural Network for {} iterations \\n'.format(num_iter))   \n",
    "    neural_network.train(num_iter)\n",
    "    \n",
    "    print('Accuracy on training data: {}%\\nAccuracy on test data: {}%'.format(neural_network.AccTrain[-1], neural_network.AccTest[-1]))\n",
    "   #print('Prediction for Test data: \\n{}'.format(*neural_network.Forward_Propagation(data_test).T))\n",
    "    \n",
    "    plt.plot(range(num_iter),neural_network.CostHistory, label = 'Training Data')\n",
    "    plt.plot(range(num_iter),neural_network.CostHistory_test, 'r', label = 'Test Data')\n",
    "    plt.xlabel('Number of iterations')\n",
    "    plt.ylabel('Cost Function')\n",
    "    plt.legend()\n",
    "    plt.show()"
   ]
  }
 ],
 "metadata": {
  "kernelspec": {
   "display_name": "Python 3",
   "language": "python",
   "name": "python3"
  },
  "language_info": {
   "codemirror_mode": {
    "name": "ipython",
    "version": 3
   },
   "file_extension": ".py",
   "mimetype": "text/x-python",
   "name": "python",
   "nbconvert_exporter": "python",
   "pygments_lexer": "ipython3",
   "version": "3.7.3"
  }
 },
 "nbformat": 4,
 "nbformat_minor": 2
}
